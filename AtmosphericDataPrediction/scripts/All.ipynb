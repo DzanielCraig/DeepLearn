{
 "cells": [
  {
   "cell_type": "markdown",
   "metadata": {},
   "source": [
    "### DataSaving.py"
   ]
  },
  {
   "cell_type": "code",
   "execution_count": 1,
   "metadata": {},
   "outputs": [],
   "source": [
    "import numpy as np\n",
    "\n",
    "class DataSaving():\n",
    "    loss=[]\n",
    "\n",
    "    def __init__(self) -> None:\n",
    "        pass\n",
    "    def addLoss(self,l):\n",
    "        self.loss.append(l)\n",
    "    def saveLoss(self,filename):\n",
    "        with open(f'{filename}.txt','w') as f:\n",
    "            for i in range(len(self.loss)):\n",
    "                f.write(f'{self.loss[i]} ')\n",
    "    def save(filepath,way,parameter:np.ndarray,dime=2):\n",
    "        '''\n",
    "        '''\n",
    "        with open(filepath,way) as f:\n",
    "            if dime == 1:\n",
    "                for i in range(len(parameter)):\n",
    "                    if i == len(parameter)-1:\n",
    "                        f.write(f'{parameter[i]}\\n')\n",
    "                    else:\n",
    "                        f.write(f'{parameter[i]},')\n",
    "            elif dime == 2:\n",
    "                x,y=parameter.shape\n",
    "                for i in range(x):\n",
    "                    for j in range(y):\n",
    "                        if i == y-1:\n",
    "                            f.write(f'{parameter[i][j]}\\n')\n",
    "                        else:\n",
    "                            f.write(f'{parameter[i][j]},')\n",
    "                    print('\\n')"
   ]
  },
  {
   "cell_type": "markdown",
   "metadata": {},
   "source": [
    "### DataProcessing.py\n",
    "侧滑角\t马赫数\t来流静压\t迎角"
   ]
  },
  {
   "cell_type": "code",
   "execution_count": 2,
   "metadata": {},
   "outputs": [],
   "source": [
    "import torch\n",
    "import numpy as np\n",
    "import pandas as pd\n",
    "\n",
    "def getData(filepath:str,prec=torch.float32):\n",
    "\n",
    "    #---pandas 读取 xlsx 文件\n",
    "    source=pd.read_excel(filepath)\n",
    "    data=source.values\n",
    "\n",
    "    x,_=data.shape\n",
    "    #---截取 特征部分\n",
    "    train_features=data[:int(x*0.8),:8]\n",
    "    verif_features=data[int(x*0.8):,:8]\n",
    "    #---截取 标签部分\n",
    "    train_labels=np.array([data[:int(x*0.8),0]]).T\n",
    "    verif_labels=np.array([data[int(x*0.8):,0]]).T\n",
    "\n",
    "    train_features=torch.from_numpy(train_features).to(prec)\n",
    "    verif_features=torch.from_numpy(verif_features).to(prec)\n",
    "    train_labels=torch.from_numpy(train_labels).to(prec)\n",
    "    verif_labels=torch.from_numpy(verif_labels).to(prec)\n",
    "\n",
    "    return train_features,train_labels,verif_features,verif_labels\n",
    "train_features,train_labels,verif_features,verif_labels=getData('../data/result/SideslipAngle.xlsx')"
   ]
  },
  {
   "cell_type": "code",
   "execution_count": 3,
   "metadata": {},
   "outputs": [],
   "source": [
    "import torch\n",
    "import numpy as np\n",
    "\n",
    "def dataIter(batch_size, features, labels):\n",
    "    num_examples = len(features)\n",
    "    indices = list(range(num_examples))\n",
    "    # 这些样本是随机读取的，没有特定的顺序\n",
    "    np.random.shuffle(indices)\n",
    "    for i in range(0, num_examples, batch_size):\n",
    "        batch_indices = torch.tensor(\n",
    "            indices[i: min(i + batch_size, num_examples)])\n",
    "        yield features[batch_indices], labels[batch_indices]"
   ]
  },
  {
   "cell_type": "code",
   "execution_count": 4,
   "metadata": {},
   "outputs": [],
   "source": [
    "def squareLoss(y_hat, y):\n",
    "    \"\"\"MSE\"\"\"\n",
    "    return (y_hat - y.reshape(y_hat.shape))**2/2\n",
    "\n",
    "def sgd(params, lr, batch_size):\n",
    "    \"\"\"小批量随机梯度下降\"\"\"\n",
    "    with torch.no_grad():\n",
    "        for param in params:\n",
    "            param -= lr * param.grad / batch_size\n",
    "            param.grad.zero_()\n",
    "\n",
    "def relu(X):\n",
    "    a = torch.zeros_like(X)\n",
    "    return torch.max(X, a)"
   ]
  },
  {
   "cell_type": "code",
   "execution_count": 5,
   "metadata": {},
   "outputs": [],
   "source": [
    "# import torch\n",
    "# from torch import nn\n",
    "\n",
    "# batchSize=8\n",
    "# epochSize=20\n",
    "\n",
    "# lr=0.0001\n",
    "# OrigD=8\n",
    "# DestD=1\n",
    "# HideD=4\n",
    "\n",
    "# WQ=nn.Parameter(torch.randn(1,OrigD,requires_grad=True) * 1)\n",
    "# WK=nn.Parameter(torch.randn(1,OrigD,requires_grad=True) * 1)\n",
    "# WV=nn.Parameter(torch.randn(1,OrigD,requires_grad=True) * 1)\n",
    "\n",
    "# W1 = nn.Parameter(torch.randn(HideD, OrigD, requires_grad=True) * 1)\n",
    "# b1 = nn.Parameter(torch.zeros(1,HideD, requires_grad=True))\n",
    "# W2 = nn.Parameter(torch.randn(DestD, HideD, requires_grad=True) * 1)\n",
    "# b2 = nn.Parameter(torch.zeros(1,DestD, requires_grad=True))\n",
    "\n",
    "# X=torch.randn(batchSize, OrigD, requires_grad=True)\n",
    "# I=X.sin()\n",
    "\n",
    "# Q=WQ*I\n",
    "# K=WK*I\n",
    "# V=WV*I\n",
    "\n",
    "# A=K.t()@Q\n",
    "# softmax=nn.Softmax(dim=1)\n",
    "# Ax=softmax(A)\n",
    "# O=V@Ax\n",
    "\n",
    "# # --- Mult Perce ---\n",
    "# H = relu(W1@(O.T) + b1.T)\n",
    "# Y=(W2@H + b2.T)"
   ]
  },
  {
   "cell_type": "markdown",
   "metadata": {},
   "source": [
    "### Train and Test"
   ]
  },
  {
   "cell_type": "code",
   "execution_count": 6,
   "metadata": {},
   "outputs": [
    {
     "name": "stdout",
     "output_type": "stream",
     "text": [
      "epoch 1, loss 0.826890\n",
      "epoch 2, loss 0.910277\n",
      "epoch 3, loss 0.961101\n",
      "epoch 4, loss 0.989944\n",
      "epoch 5, loss 1.010225\n",
      "epoch 6, loss 1.020990\n",
      "epoch 7, loss 1.023550\n",
      "epoch 8, loss 1.027565\n",
      "epoch 9, loss 1.027419\n",
      "epoch 10, loss 1.026592\n",
      "epoch 11, loss 1.025902\n",
      "epoch 12, loss 1.020126\n"
     ]
    },
    {
     "ename": "KeyboardInterrupt",
     "evalue": "",
     "output_type": "error",
     "traceback": [
      "\u001b[1;31m---------------------------------------------------------------------------\u001b[0m",
      "\u001b[1;31mKeyboardInterrupt\u001b[0m                         Traceback (most recent call last)",
      "Cell \u001b[1;32mIn[6], line 60\u001b[0m\n\u001b[0;32m     58\u001b[0m l \u001b[39m=\u001b[39m loss(y_hat, y)\n\u001b[0;32m     59\u001b[0m \u001b[39m# --- 反向传播，计算梯度 ---\u001b[39;00m\n\u001b[1;32m---> 60\u001b[0m l\u001b[39m.\u001b[39;49msum()\u001b[39m.\u001b[39mbackward()\n\u001b[0;32m     61\u001b[0m \u001b[39m# --- 使用参数的梯度更新参数 ---\u001b[39;00m\n\u001b[0;32m     62\u001b[0m sgd([WQ,WK,WV,W1,b1,W2,b2], lr, batchSize)\n",
      "\u001b[1;31mKeyboardInterrupt\u001b[0m: "
     ]
    }
   ],
   "source": [
    "import torch\n",
    "from torch import nn\n",
    "\n",
    "loss=squareLoss\n",
    "\n",
    "def net(X,WQ,WK,WV,W1,b1,W2,b2):\n",
    "    '''\n",
    "    \n",
    "    '''\n",
    "    # --- Self Attention ---\n",
    "    # I=X.sin()\n",
    "\n",
    "    I=X\n",
    "    \n",
    "    Q=WQ*I\n",
    "    K=WK*I\n",
    "    V=WV*I\n",
    "\n",
    "    A=K.t()@Q\n",
    "    softmax=nn.Softmax(dim=1)\n",
    "    Ax=softmax(A)\n",
    "    O=V@Ax\n",
    "\n",
    "    # --- Mult Perce ---\n",
    "    H = relu(W1@(O.T) + b1.T)\n",
    "    Y=(W2@H + b2.T)\n",
    "\n",
    "    return Y.T\n",
    "\n",
    "if __name__ == \"__main__\":\n",
    "    '''\n",
    "\n",
    "    '''\n",
    "    batchSize=8\n",
    "    epochSize=50\n",
    "\n",
    "    lr=0.00001\n",
    "    OrigD=8\n",
    "    DestD=1\n",
    "    HideD=16\n",
    "\n",
    "    WQ=nn.Parameter(torch.randn(1,OrigD,requires_grad=True) * 1)\n",
    "    WK=nn.Parameter(torch.randn(1,OrigD,requires_grad=True) * 1)\n",
    "    WV=nn.Parameter(torch.randn(1,OrigD,requires_grad=True) * 1)\n",
    "\n",
    "    W1 = nn.Parameter(torch.randn(HideD, OrigD, requires_grad=True) * 1)\n",
    "    b1 = nn.Parameter(torch.zeros(1,HideD, requires_grad=True))\n",
    "    W2 = nn.Parameter(torch.randn(DestD, HideD, requires_grad=True) * 1)\n",
    "    b2 = nn.Parameter(torch.zeros(1,DestD, requires_grad=True))\n",
    "\n",
    "    # --- 数据读取 ---\n",
    "    train_features,train_labels,verif_features,verif_labels=getData('../data/result/AngleofAttack.xlsx')\n",
    "    \n",
    "    for epoch in range(epochSize):\n",
    "        for X, y in dataIter(batchSize, train_features, train_labels):\n",
    "            # --- X和y的小批量损失 ---\n",
    "            y_hat=net(X,WQ,WK,WV,W1,b1,W2,b2)\n",
    "            l = loss(y_hat, y)\n",
    "            # --- 反向传播，计算梯度 ---\n",
    "            l.sum().backward()\n",
    "            # --- 使用参数的梯度更新参数 ---\n",
    "            sgd([WQ,WK,WV,W1,b1,W2,b2], lr, batchSize)\n",
    "        with torch.no_grad():\n",
    "            train_l = loss(net(verif_features,WQ,WK,WV,W1,b1,W2,b2),verif_labels)\n",
    "            print(f'epoch {epoch + 1}, loss {float(train_l.mean()):f}')\n",
    "    torch.save(WQ,'../result/WQ')\n",
    "    torch.save(WK,'../result/WK')\n",
    "    torch.save(WV,'../result/WV')\n",
    "\n",
    "    torch.save(W1,'../result/W1')\n",
    "    torch.save(W2,'../result/W2')\n",
    "    torch.save(b1,'../result/b1')\n",
    "    torch.save(b2,'../result/b2')    "
   ]
  },
  {
   "cell_type": "markdown",
   "metadata": {},
   "source": [
    "### Predict"
   ]
  },
  {
   "cell_type": "code",
   "execution_count": 7,
   "metadata": {},
   "outputs": [
    {
     "name": "stdout",
     "output_type": "stream",
     "text": [
      "tensor([[0.2702]], grad_fn=<PermuteBackward0>)\n"
     ]
    }
   ],
   "source": [
    "WQ=torch.load('../result/WQ')\n",
    "WK=torch.load('../result/WK')\n",
    "WV=torch.load('../result/WV')\n",
    "W1=torch.load('../result/W1')\n",
    "W2=torch.load('../result/W2')\n",
    "b1=torch.load('../result/b1')\n",
    "b2=torch.load('../result/b2')\n",
    "X=torch.tensor([[0.402001281,0.342326603,0.212043361,0.308767707,0.175532454,0.163157033,0.147027114,0.10561953]])\n",
    "result=net(X,WQ,WK,WV,W1,b1,W2,b2)\n",
    "print(result)"
   ]
  },
  {
   "cell_type": "code",
   "execution_count": 26,
   "metadata": {},
   "outputs": [],
   "source": [
    "Y=torch.tensor([[8,1.7,54048.3,-10]])\n",
    "y=Y.T"
   ]
  },
  {
   "cell_type": "code",
   "execution_count": 9,
   "metadata": {},
   "outputs": [
    {
     "name": "stdout",
     "output_type": "stream",
     "text": [
      "tensor([[0.7615]], grad_fn=<PermuteBackward0>)\n"
     ]
    }
   ],
   "source": [
    "print(result)"
   ]
  },
  {
   "cell_type": "code",
   "execution_count": 10,
   "metadata": {},
   "outputs": [
    {
     "name": "stdout",
     "output_type": "stream",
     "text": [
      "10.458784104\n"
     ]
    }
   ],
   "source": [
    "print(0.7614696026*40-20)"
   ]
  },
  {
   "cell_type": "code",
   "execution_count": 9,
   "metadata": {},
   "outputs": [
    {
     "name": "stdout",
     "output_type": "stream",
     "text": [
      "1.1289227336\n"
     ]
    }
   ],
   "source": [
    "print(0.487601608*1.7+0.3)"
   ]
  },
  {
   "cell_type": "code",
   "execution_count": 10,
   "metadata": {},
   "outputs": [
    {
     "name": "stdout",
     "output_type": "stream",
     "text": [
      "49267.4314631019\n"
     ]
    }
   ],
   "source": [
    "print(0.4237176478*(107478-6467.5)+6467.5)"
   ]
  },
  {
   "cell_type": "code",
   "execution_count": 8,
   "metadata": {},
   "outputs": [
    {
     "name": "stdout",
     "output_type": "stream",
     "text": [
      "tensor([[-1.8942]], grad_fn=<SubBackward0>)\n"
     ]
    }
   ],
   "source": [
    "print(0.2934017479*(30)-10)"
   ]
  },
  {
   "cell_type": "code",
   "execution_count": 7,
   "metadata": {},
   "outputs": [
    {
     "data": {
      "image/png": "[encoded data removed]",
      "text/plain": [
       "<Figure size 640x480 with 1 Axes>"
      ]
     },
     "metadata": {},
     "output_type": "display_data"
    }
   ],
   "source": [
    "# import pandas as pd\n",
    "# import matplotlib.pyplot as plt\n",
    "\n",
    "# if __name__ == \"__main__\":\n",
    "#     '''\n",
    "#     '''\n",
    "#     data=pd.read_csv('../data/result/WQ.txt')\n",
    "#     data=data.values.T\n",
    "\n",
    "#     # for i in range(12):\n",
    "#     #     data.loc[:,i]=(data.loc[:,i]-data.loc[:,i].min())/(data.loc[:,i].max()-data.loc[:,i].min())\n",
    "#     # --- Min-Max Normalization ---\n",
    "#     for i in range(len(data)):\n",
    "#         min_val = data[i].min()\n",
    "#         max_val = data[i].max()\n",
    "        \n",
    "#         # data[i] = (data[i] - min_val) / (max_val - min_val)\n",
    "#     # data=data.values\n",
    "#     # plt.imshow(data)\n",
    "#     # plt.title('Wq')"
   ]
  },
  {
   "cell_type": "code",
   "execution_count": 1,
   "metadata": {},
   "outputs": [
    {
     "data": {
      "image/png": "[encoded data removed]",
      "text/plain": [
       "<Figure size 640x480 with 1 Axes>"
      ]
     },
     "metadata": {},
     "output_type": "display_data"
    }
   ],
   "source": [
    "import matplotlib.pyplot as plt\n",
    "import matplotlib.animation as animation\n",
    "import numpy as np\n",
    "if __name__ == \"__main__\":\n",
    "    fig = plt.figure()\n",
    "    plt.title('Loss with self attention lr:0.0001')\n",
    "    plt.xlabel('epoch')\n",
    "    plt.ylabel('loss')\n",
    "    ims = []\n",
    "    X=[]\n",
    "    x=[0.825105\n",
    ",  0.385919\n",
    ",  0.224624\n",
    ",  0.160336\n",
    ",  0.126073\n",
    ",  0.107923\n",
    ",  0.094480\n",
    ",  0.087892\n",
    ",  0.082446\n",
    ",  0.080087\n",
    ",  0.078556\n",
    ",  0.076952\n",
    ",  0.075852\n",
    ",  0.074495\n",
    ",  0.073537\n",
    ",  0.073048\n",
    ",  0.072378\n",
    ",  0.072249\n",
    ",  0.071930\n",
    ",  0.071832]\n",
    "    plt.plot(x)\n",
    "    # for i in range(len(x)):\n",
    "    #     X.append(x[i])\n",
    "    #     im=plt.plot(X)\n",
    "    #     # im = plt.plot(np.linspace(0, i,10), np.linspace(0, np.random.randint(i),10))\n",
    "    #     ims.append(im)\n",
    "    # ani = animation.ArtistAnimation(fig, ims, interval=200, repeat_delay=1000)\n",
    "    # ani.save(\"../data/result/loss.gif\",writer='pillow')\n"
   ]
  },
  {
   "cell_type": "code",
   "execution_count": 6,
   "metadata": {},
   "outputs": [
    {
     "data": {
      "image/png": "[encoded data removed]",
      "text/plain": [
       "<Figure size 640x480 with 1 Axes>"
      ]
     },
     "metadata": {},
     "output_type": "display_data"
    }
   ],
   "source": [
    "\n",
    "import matplotlib.pyplot as plt\n",
    "import matplotlib.animation as animation\n",
    "import numpy as np\n",
    "if __name__ == \"__main__\":\n",
    "    fig = plt.figure()\n",
    "    plt.title('Loss without self attention lr:0.0001')\n",
    "    plt.xlabel('epoch')\n",
    "    plt.ylabel('loss')\n",
    "    ims = []\n",
    "    X=[]\n",
    "    x=[\n",
    "0.079346\n",
    ",0.078584\n",
    ",0.078137\n",
    ",0.078373\n",
    ",0.077996\n",
    ",0.077220\n",
    ",0.074903\n",
    ",0.070784\n",
    ",0.065776\n",
    ",0.063646\n",
    ",0.062718\n",
    ",0.062450\n",
    ",0.062388\n",
    ",0.062284\n",
    ",0.061944\n",
    ",0.061954\n",
    ",0.062129\n",
    ",0.062226\n",
    ",0.062178\n",
    ",0.062017]\n",
    "    plt.plot(x)\n",
    "    # for i in range(len(x)):\n",
    "    #     X.append(x[i])\n",
    "    #     im=plt.plot(X)\n",
    "    #     # im = plt.plot(np.linspace(0, i,10), np.linspace(0, np.random.randint(i),10))\n",
    "    #     ims.append(im)\n",
    "    # ani = animation.ArtistAnimation(fig, ims, interval=200, repeat_delay=1000)\n",
    "    # ani.save(\"../data/result/loss.gif\",writer='pillow')\n"
   ]
  },
  {
   "cell_type": "code",
   "execution_count": null,
   "metadata": {},
   "outputs": [],
   "source": [
    "# import torch\n",
    "# from torch import nn\n",
    "# from DEP import getData\n",
    "# from DEP import dataIter\n",
    "# from DEP import relu\n",
    "# from DEP import sgd\n",
    "# from DEP import squareLoss as loss\n",
    "\n",
    "# def net(X,kernel,WQ,WK,WV,W1,b1,W2,b2):\n",
    "#     '''\n",
    "    \n",
    "#     '''\n",
    "#     # --- Self Attention ---\n",
    "#     I=X.sin()\n",
    "\n",
    "#     Q=WQ*I\n",
    "#     K=WK*I\n",
    "#     V=WV*I\n",
    "\n",
    "#     A=K.t()@Q\n",
    "#     softmax=nn.Softmax(dim=1)\n",
    "#     Ax=softmax(A)\n",
    "#     O=V@Ax\n",
    "\n",
    "#     # --- One dime Kernel ---\n",
    "#     Z=kernel*O\n",
    "\n",
    "#     # --- Mult Perce ---\n",
    "#     H = relu(W1@(Z.T) + b1.T)\n",
    "#     Y=(W2@H + b2.T)\n",
    "\n",
    "#     return Y\n",
    "\n",
    "# if __name__ == \"__main__\":\n",
    "#     '''\n",
    "\n",
    "#     '''\n",
    "    \n",
    "#     batchSize=4\n",
    "#     epochSize=10\n",
    "\n",
    "#     lr=0.01\n",
    "#     OrigD=8\n",
    "#     DestD=4\n",
    "#     HideD=4\n",
    "\n",
    "#     kernel=nn.Parameter(torch.tensor(1.,requires_grad=True))\n",
    "\n",
    "#     WQ=nn.Parameter(torch.randn(1,OrigD,requires_grad=True) * 5)\n",
    "#     WK=nn.Parameter(torch.randn(1,OrigD,requires_grad=True) * 5)\n",
    "#     WV=nn.Parameter(torch.randn(1,OrigD,requires_grad=True) * 5)\n",
    "\n",
    "#     W1 = nn.Parameter(torch.randn(HideD, OrigD, requires_grad=True) * 5)\n",
    "#     b1 = nn.Parameter(torch.zeros(1,HideD, requires_grad=True))\n",
    "#     W2 = nn.Parameter(torch.randn(DestD, HideD, requires_grad=True) * 5)\n",
    "#     b2 = nn.Parameter(torch.zeros(1,DestD, requires_grad=True))\n",
    "\n",
    "#     # --- 数据读取 ---\n",
    "#     train_features,train_labels,_=getData('../data/train_data.xlsx')\n",
    "#     test_features,test_labels,_=getData('../data/test_data.xlsx')\n",
    "\n",
    "#     for epoch in range(epochSize):\n",
    "#         print(kernel)\n",
    "#         for X, y in dataIter(batchSize, train_features, train_labels):\n",
    "#             # --- X和y的小批量损失 ---\n",
    "#             l = loss(net(X,kernel,WQ,WK,WV,W1,b1,W2,b2), y)\n",
    "#             # --- 反向传播，计算梯度 ---\n",
    "#             l.sum().backward()\n",
    "#             # --- 使用参数的梯度更新参数 ---\n",
    "#             sgd([kernel,WQ,WK,WV,W1,b1,W2,b2], lr, batchSize)\n",
    "#         with torch.no_grad():\n",
    "#             train_l = loss(net(test_features.mean(axis=0),kernel,WQ,WK,WV,W1,b1,W2,b2), test_labels.mean(axis=0))\n",
    "#             print(f'epoch {epoch + 1}, loss {float(train_l.mean()):f}')"
   ]
  },
  {
   "cell_type": "code",
   "execution_count": 5,
   "metadata": {},
   "outputs": [
    {
     "ename": "IndexError",
     "evalue": "Dimension out of range (expected to be in range of [-1, 0], but got 1)",
     "output_type": "error",
     "traceback": [
      "\u001b[1;31m---------------------------------------------------------------------------\u001b[0m",
      "\u001b[1;31mIndexError\u001b[0m                                Traceback (most recent call last)",
      "Cell \u001b[1;32mIn[5], line 80\u001b[0m\n\u001b[0;32m     77\u001b[0m \u001b[39mfor\u001b[39;00m epoch \u001b[39min\u001b[39;00m \u001b[39mrange\u001b[39m(epochSize):\n\u001b[0;32m     78\u001b[0m     \u001b[39mfor\u001b[39;00m X, y \u001b[39min\u001b[39;00m dataIter(batchSize, train_features, train_labels):\n\u001b[0;32m     79\u001b[0m         \u001b[39m# --- X和y的小批量损失 ---\u001b[39;00m\n\u001b[1;32m---> 80\u001b[0m         l \u001b[39m=\u001b[39m loss(net(X,WQ,WK,WV,W1,b1,W2,b2), y\u001b[39m.\u001b[39;49mmean(axis\u001b[39m=\u001b[39;49m\u001b[39m1\u001b[39;49m))\n\u001b[0;32m     81\u001b[0m         \u001b[39m# --- 反向传播，计算梯度 ---\u001b[39;00m\n\u001b[0;32m     82\u001b[0m         l\u001b[39m.\u001b[39msum()\u001b[39m.\u001b[39mbackward()\n",
      "\u001b[1;31mIndexError\u001b[0m: Dimension out of range (expected to be in range of [-1, 0], but got 1)"
     ]
    }
   ],
   "source": [
    "import torch\n",
    "import time\n",
    "import numpy as np\n",
    "from torch import nn\n",
    "from DEP import Record\n",
    "from DEP import getData\n",
    "from DEP import dataIter\n",
    "from DEP import relu\n",
    "from DEP import sgd\n",
    "from DEP import squareLoss as loss\n",
    "\n",
    "def net(X,WQ,WK,WV,W1,b1,W2,b2):\n",
    "    '''\n",
    "    \n",
    "    '''\n",
    "    # --- Self Attention ---\n",
    "    # I=X.sin()\n",
    "\n",
    "    # Q=WQ*I\n",
    "    # K=WK*I\n",
    "    # V=WV*I\n",
    "\n",
    "    # A=K.t()@Q\n",
    "    # softmax=nn.Softmax(dim=1)\n",
    "    # Ax=softmax(A)\n",
    "    # O=V@Ax\n",
    "\n",
    "    # # --- Mult Perce ---\n",
    "    # H = relu(W1@(O.T) + b1.T)\n",
    "    # Y=(W2@H + b2.T)\n",
    "\n",
    "    # return Y\n",
    "    I=X\n",
    "    \n",
    "    Q=WQ*I\n",
    "    K=WK*I\n",
    "    V=WV*I\n",
    "\n",
    "    A=K.t()@Q\n",
    "    softmax=nn.Softmax(dim=1)\n",
    "    Ax=softmax(A)\n",
    "    O=V@Ax\n",
    "\n",
    "    # --- Mult Perce ---\n",
    "    H = relu(W1@(O.T) + b1.T)\n",
    "    Y=(W2@H + b2.T)\n",
    "\n",
    "    return Y.T\n",
    "\n",
    "if __name__ == \"__main__\":\n",
    "    '''\n",
    "\n",
    "    '''\n",
    "    batchSize=8\n",
    "    epochSize=10\n",
    "\n",
    "    lr=0.0001\n",
    "    OrigD=8\n",
    "    DestD=4\n",
    "    HideD=4\n",
    "\n",
    "    WQ=nn.Parameter(torch.randn(1,OrigD,requires_grad=True) * 5)\n",
    "    WK=nn.Parameter(torch.randn(1,OrigD,requires_grad=True) * 5)\n",
    "    WV=nn.Parameter(torch.randn(1,OrigD,requires_grad=True) * 5)\n",
    "\n",
    "    W1 = nn.Parameter(torch.randn(HideD, OrigD, requires_grad=True) * 5)\n",
    "    b1 = nn.Parameter(torch.zeros(1,HideD, requires_grad=True))\n",
    "    W2 = nn.Parameter(torch.randn(DestD, HideD, requires_grad=True) * 5)\n",
    "    b2 = nn.Parameter(torch.zeros(1,DestD, requires_grad=True))\n",
    "\n",
    "    # --- 数据读取 ---\n",
    "    train_features,train_labels,_=getData('../data/origin/train_data.xlsx')\n",
    "    test_features,test_labels,_=getData('../data/origin/test_data.xlsx')\n",
    "    \n",
    "    record=Record()\n",
    "    \n",
    "    for epoch in range(epochSize):\n",
    "        for X, y in dataIter(batchSize, train_features, train_labels):\n",
    "            # --- X和y的小批量损失 ---\n",
    "            l = loss(net(X,WQ,WK,WV,W1,b1,W2,b2), y)\n",
    "            # --- 反向传播，计算梯度 ---\n",
    "            l.sum().backward()\n",
    "            # --- 使用参数的梯度更新参数 ---\n",
    "            sgd([WQ,WK,WV,W1,b1,W2,b2], lr, batchSize)\n",
    "        with torch.no_grad():\n",
    "            train_l = loss(net(test_features,WQ,WK,WV,W1,b1,W2,b2), test_labels)\n",
    "            print(f'epoch {epoch + 1}, loss {float(train_l.mean()):f}')\n",
    "            record.add(train_l.mean())\n",
    "            record.savePara('../data/result/WQ',WQ.detach().numpy())\n",
    "    record.saveLoss('../data/result/Loss')"
   ]
  },
  {
   "cell_type": "code",
   "execution_count": 19,
   "metadata": {},
   "outputs": [],
   "source": [
    "z=net(test_features,WQ,WK,WV,W1,b1,W2,b2)\n",
    "z=z.mean(axis=1)\n",
    "z=z.detach().numpy()"
   ]
  },
  {
   "cell_type": "code",
   "execution_count": 17,
   "metadata": {},
   "outputs": [],
   "source": [
    "s=test_features.mean(axis=0)"
   ]
  },
  {
   "cell_type": "code",
   "execution_count": 5,
   "metadata": {},
   "outputs": [
    {
     "name": "stdout",
     "output_type": "stream",
     "text": [
      "Parameter containing:\n",
      "tensor([[ 3.0884, -6.4803,  4.9852,  5.9869, -4.8233,  5.7545, -0.2335,  5.9662]],\n",
      "       requires_grad=True)\n"
     ]
    }
   ],
   "source": [
    "print(WK,WK,WV,W1,b1,W2,b2)"
   ]
  },
  {
   "cell_type": "code",
   "execution_count": 2,
   "metadata": {},
   "outputs": [
    {
     "ename": "NameError",
     "evalue": "name 'torch' is not defined",
     "output_type": "error",
     "traceback": [
      "\u001b[1;31m---------------------------------------------------------------------------\u001b[0m",
      "\u001b[1;31mNameError\u001b[0m                                 Traceback (most recent call last)",
      "Cell \u001b[1;32mIn[2], line 1\u001b[0m\n\u001b[1;32m----> 1\u001b[0m feat\u001b[39m=\u001b[39mtorch\u001b[39m.\u001b[39mtensor([\u001b[39m0.95\u001b[39m,\u001b[39m0.823529412\u001b[39m,\u001b[39m0.8\u001b[39m,\u001b[39m0.006075657\u001b[39m,\u001b[39m0.009419246\u001b[39m,\u001b[39m0.01159108\u001b[39m,\u001b[39m0.030305886\u001b[39m,\u001b[39m0.031536561\u001b[39m,\u001b[39m0.034104969\u001b[39m,\u001b[39m0.011379024\u001b[39m,\u001b[39m0.007001902\u001b[39m])\n\u001b[0;32m      2\u001b[0m z\u001b[39m=\u001b[39mnet(feat,WQ,WK,WV,W1,b1,W2,b2)\n",
      "\u001b[1;31mNameError\u001b[0m: name 'torch' is not defined"
     ]
    }
   ],
   "source": [
    "feat=torch.tensor([0.95,0.823529412,0.8,0.006075657,0.009419246,0.01159108,0.030305886,0.031536561,0.034104969,0.011379024,0.007001902])\n",
    "z=net(feat,WQ,WK,WV,W1,b1,W2,b2)"
   ]
  },
  {
   "cell_type": "code",
   "execution_count": 32,
   "metadata": {},
   "outputs": [
    {
     "name": "stdout",
     "output_type": "stream",
     "text": [
      "[214.877376556, -2.7219462276, 54148.562400058596, -83.584165573, 43477.61830034481, 43457.85276147312, 44365.42502117679, 41043.5853327393, 59299.41342418208, 64157.78546178384, 63085.23308641106, 58906.85052206694]\n"
     ]
    }
   ],
   "source": [
    "import pandas as pd\n",
    "\n",
    "if __name__ == \"__main__\":\n",
    "    '''\n",
    "    '''\n",
    "    data=pd.read_excel('../data/original/total.xlsx')\n",
    "    data=data.values\n",
    "    data=data.T\n",
    "    X=[]\n",
    "    x=[5.8719344139,-1.777615428,0.4720406532,-2.4528055191,0.1816388369,0.1899358183,0.1815485954,0.158750385,0.2116764486,0.2287368923,0.2194380611,0.2153886408]\n",
    "    # --- Min-Max Normalization ---\n",
    "    for i in range(len(x)):\n",
    "        min_val = data[i].min()\n",
    "        max_val = data[i].max()\n",
    "        s=x[i]*(max_val-min_val)+min_val\n",
    "        X.append(s)\n",
    "    print(X)"
   ]
  },
  {
   "cell_type": "code",
   "execution_count": 31,
   "metadata": {},
   "outputs": [
    {
     "name": "stdout",
     "output_type": "stream",
     "text": [
      "214.877376556 -20.0 20.0\n"
     ]
    }
   ],
   "source": [
    "\n",
    "min_val=data[0].min()\n",
    "max_val=data[0].max()\n",
    "s=5.8719344139*(max_val-min_val)+min_val\n",
    "print(s,min_val,max_val)"
   ]
  },
  {
   "cell_type": "code",
   "execution_count": 33,
   "metadata": {},
   "outputs": [],
   "source": [
    "h=torch.tensor([18,0.5,95461.3,8,92637.25193,91024.04597,92936.14641,97118.21165,98728.95406,94766.4384,87583.37797,92217.74637])\n"
   ]
  },
  {
   "cell_type": "code",
   "execution_count": 36,
   "metadata": {},
   "outputs": [],
   "source": [
    "m = nn.Conv1d(in_channels=16, out_channels=33, kernel_size=3, stride=2)\n",
    "\n",
    "input = torch.randn(20, 16, 50) # batch size 20,通道数16,序列长度50\n",
    "output = m(input) # 卷积输出"
   ]
  }
 ],
 "metadata": {
  "kernelspec": {
   "display_name": "Python 3",
   "language": "python",
   "name": "python3"
  },
  "language_info": {
   "codemirror_mode": {
    "name": "ipython",
    "version": 3
   },
   "file_extension": ".py",
   "mimetype": "text/x-python",
   "name": "python",
   "nbconvert_exporter": "python",
   "pygments_lexer": "ipython3",
   "version": "3.11.4"
  },
  "orig_nbformat": 4
 },
 "nbformat": 4,
 "nbformat_minor": 2
}
